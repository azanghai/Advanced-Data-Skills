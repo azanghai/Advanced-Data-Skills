{
 "cells": [
  {
   "cell_type": "markdown",
   "id": "64e1eeb5",
   "metadata": {},
   "source": [
    "# Workshop 14/2/23"
   ]
  },
  {
   "cell_type": "markdown",
   "id": "21b210fd",
   "metadata": {},
   "source": [
    "### Import Package"
   ]
  },
  {
   "cell_type": "code",
   "execution_count": 1,
   "id": "08aef02f",
   "metadata": {},
   "outputs": [],
   "source": [
    "import pandas as pd\n",
    "\n",
    "import matplotlib.pyplot as plt\n",
    "\n",
    "from scipy import stats\n",
    "\n",
    "import statsmodels.api as sm\n",
    "from statsmodels.formula.api import ols"
   ]
  },
  {
   "cell_type": "markdown",
   "id": "f8680d33",
   "metadata": {},
   "source": [
    "## Question 1\n",
    "The data in this file are from an experiment with 96 participants. We measured how quickly (in milliseconds) people could pronounce a word that was presented to them. Words were presented either normally (Condition A) or were visually degraded (Condition B). This was a between participants factor of visual quality with 2 levels. Visualise the data and report the key descriptives before then running the appropriate ANOVA.\n",
    "Can you turn your code into a function called my_anova() so that you can call it with the command my_anova(https://raw.githubusercontent.com/ajstewartlang/02_intro_to_python_programming/main/data/ANOVA_class_work.csv) and will produce the output of your ANOVA? Hint: you need to pass just the location of your data file to your function, and can keep the code you’ve written above virtually unchanged."
   ]
  },
  {
   "cell_type": "code",
   "execution_count": 2,
   "id": "340d5174",
   "metadata": {},
   "outputs": [],
   "source": [
    "# Read data\n",
    "\n",
    "data_2 = pd.read_csv('https://raw.githubusercontent.com/ajstewartlang/02_intro_to_python_programming/main/data/ANOVA_class_work.csv')"
   ]
  },
  {
   "cell_type": "code",
   "execution_count": 3,
   "id": "1aad4076",
   "metadata": {},
   "outputs": [
    {
     "name": "stdout",
     "output_type": "stream",
     "text": [
      "condition\n",
      "condition_a    1002.229167\n",
      "condition_b    1020.354167\n",
      "Name: response_time, dtype: float64\n",
      "condition\n",
      "condition_a    21.045280\n",
      "condition_b    23.524084\n",
      "Name: response_time, dtype: float64\n"
     ]
    }
   ],
   "source": [
    "# Mean and standard deviation done manually\n",
    "\n",
    "group_data_2 = data_2.groupby(['condition'])['response_time']\n",
    "\n",
    "group_data_2_mean = group_data_2.mean()\n",
    "\n",
    "group_data_2_error = group_data_2.std()\n",
    "\n",
    "print(group_data_2_mean)\n",
    "\n",
    "print(group_data_2_error)"
   ]
  },
  {
   "cell_type": "code",
   "execution_count": 4,
   "id": "00304f6c",
   "metadata": {},
   "outputs": [
    {
     "data": {
      "text/html": [
       "<div>\n",
       "<style scoped>\n",
       "    .dataframe tbody tr th:only-of-type {\n",
       "        vertical-align: middle;\n",
       "    }\n",
       "\n",
       "    .dataframe tbody tr th {\n",
       "        vertical-align: top;\n",
       "    }\n",
       "\n",
       "    .dataframe thead th {\n",
       "        text-align: right;\n",
       "    }\n",
       "</style>\n",
       "<table border=\"1\" class=\"dataframe\">\n",
       "  <thead>\n",
       "    <tr style=\"text-align: right;\">\n",
       "      <th></th>\n",
       "      <th>count</th>\n",
       "      <th>mean</th>\n",
       "      <th>std</th>\n",
       "      <th>min</th>\n",
       "      <th>25%</th>\n",
       "      <th>50%</th>\n",
       "      <th>75%</th>\n",
       "      <th>max</th>\n",
       "    </tr>\n",
       "    <tr>\n",
       "      <th>condition</th>\n",
       "      <th></th>\n",
       "      <th></th>\n",
       "      <th></th>\n",
       "      <th></th>\n",
       "      <th></th>\n",
       "      <th></th>\n",
       "      <th></th>\n",
       "      <th></th>\n",
       "    </tr>\n",
       "  </thead>\n",
       "  <tbody>\n",
       "    <tr>\n",
       "      <th>condition_a</th>\n",
       "      <td>48.0</td>\n",
       "      <td>1002.229167</td>\n",
       "      <td>21.045280</td>\n",
       "      <td>945.0</td>\n",
       "      <td>990.00</td>\n",
       "      <td>1003.5</td>\n",
       "      <td>1017.25</td>\n",
       "      <td>1040.0</td>\n",
       "    </tr>\n",
       "    <tr>\n",
       "      <th>condition_b</th>\n",
       "      <td>48.0</td>\n",
       "      <td>1020.354167</td>\n",
       "      <td>23.524084</td>\n",
       "      <td>970.0</td>\n",
       "      <td>1003.25</td>\n",
       "      <td>1021.0</td>\n",
       "      <td>1032.25</td>\n",
       "      <td>1075.0</td>\n",
       "    </tr>\n",
       "  </tbody>\n",
       "</table>\n",
       "</div>"
      ],
      "text/plain": [
       "             count         mean        std    min      25%     50%      75%  \\\n",
       "condition                                                                     \n",
       "condition_a   48.0  1002.229167  21.045280  945.0   990.00  1003.5  1017.25   \n",
       "condition_b   48.0  1020.354167  23.524084  970.0  1003.25  1021.0  1032.25   \n",
       "\n",
       "                max  \n",
       "condition            \n",
       "condition_a  1040.0  \n",
       "condition_b  1075.0  "
      ]
     },
     "execution_count": 4,
     "metadata": {},
     "output_type": "execute_result"
    }
   ],
   "source": [
    "# Descriptives with preset function\n",
    "\n",
    "group_data_2.describe()\n"
   ]
  },
  {
   "cell_type": "code",
   "execution_count": 5,
   "id": "509f5831",
   "metadata": {},
   "outputs": [
    {
     "data": {
      "image/png": "[encoded data removed]",
      "text/plain": [
       "<Figure size 640x480 with 1 Axes>"
      ]
     },
     "metadata": {},
     "output_type": "display_data"
    }
   ],
   "source": [
    "# Bar Chart\n",
    "\n",
    "group_data_2_mean.plot.bar(yerr = group_data_2_error, alpha = .5, capsize = 10, ecolor = 'blue')\n",
    "plt.xlabel('Level of degradation')\n",
    "plt.ylabel('Response time (ms)')\n",
    "plt.title('Response Time to Different Quality Text')\n",
    "plt.xticks([0 , 1], ['Normal', 'Degraded'], rotation = 45)\n",
    "plt.show()"
   ]
  },
  {
   "cell_type": "code",
   "execution_count": 6,
   "id": "f2707bfa",
   "metadata": {},
   "outputs": [],
   "source": [
    "# Create Masks\n",
    "\n",
    "normal = data_2[data_2['condition'] == 'condition_a']['response_time']\n",
    "\n",
    "degraded = data_2[data_2['condition'] == 'condition_b']['response_time']"
   ]
  },
  {
   "cell_type": "code",
   "execution_count": 7,
   "id": "9a84dc2c",
   "metadata": {},
   "outputs": [
    {
     "data": {
      "text/plain": [
       "F_onewayResult(statistic=15.82752793841669, pvalue=0.00013639071462771327)"
      ]
     },
     "execution_count": 7,
     "metadata": {},
     "output_type": "execute_result"
    }
   ],
   "source": [
    "# One-way ANOVA\n",
    "\n",
    "stats.f_oneway(normal, degraded)"
   ]
  },
  {
   "cell_type": "code",
   "execution_count": 8,
   "id": "2f7de66b",
   "metadata": {},
   "outputs": [
    {
     "name": "stdout",
     "output_type": "stream",
     "text": [
      "                 sum_sq    df             F         PR(>F)\n",
      "Intercept  4.821424e+07   1.0  96787.913718  1.986229e-143\n",
      "condition  7.884375e+03   1.0     15.827528   1.363907e-04\n",
      "Residual   4.682546e+04  94.0           NaN            NaN\n"
     ]
    }
   ],
   "source": [
    "# One-way ANOVA second method\n",
    "\n",
    "good_model = ols('response_time ~ condition', data = data_2).fit()\n",
    "\n",
    "good_table = sm.stats.anova_lm(good_model, typ = 3)\n",
    "\n",
    "print(good_table)\n"
   ]
  },
  {
   "cell_type": "code",
   "execution_count": 9,
   "id": "f04a0e75",
   "metadata": {},
   "outputs": [
    {
     "name": "stdout",
     "output_type": "stream",
     "text": [
      "0.0001363907146277273\n"
     ]
    }
   ],
   "source": [
    "# Creating function\n",
    "\n",
    "def anova(data):\n",
    "    data_2 = pd.read_csv(data)\n",
    "    good_model = ols('response_time ~ condition', data = data_2).fit()\n",
    "    good_table = sm.stats.anova_lm(good_model, typ = 3)\n",
    "    print(good_table.iat[1, 3])\n",
    "\n",
    "anova('https://raw.githubusercontent.com/ajstewartlang/02_intro_to_python_programming/main/data/ANOVA_class_work.csv')"
   ]
  },
  {
   "cell_type": "code",
   "execution_count": 10,
   "id": "f1573a5f",
   "metadata": {},
   "outputs": [
    {
     "name": "stdout",
     "output_type": "stream",
     "text": [
      "<class 'pandas.core.frame.DataFrame'>\n",
      "sum_sq    7884.375000\n",
      "df           1.000000\n",
      "F           15.827528\n",
      "PR(>F)       0.000136\n",
      "Name: condition, dtype: float64\n",
      "sum_sq     4.821424e+07\n",
      "df         1.000000e+00\n",
      "F          9.678791e+04\n",
      "PR(>F)    1.986229e-143\n",
      "Name: Intercept, dtype: float64\n"
     ]
    }
   ],
   "source": [
    "# Other ways to get values from a panda data frame\n",
    "\n",
    "print(type(good_table))\n",
    "\n",
    "print(good_table.loc['condition'])\n",
    "\n",
    "print(good_table.iloc[0]) # for row indexed 0"
   ]
  },
  {
   "cell_type": "markdown",
   "id": "3d1c03ce",
   "metadata": {},
   "source": [
    "## Question 2\n",
    "Data: https://raw.githubusercontent.com/ajstewartlang/11_glm_anova_pt1/master/data/ANOVA_data2.csv\n",
    "\n",
    "48 participants responded to a word that differed in how frequent it was. This factor is between participants and we have four levels coded as ‘very low’, ‘low’, ‘high’, and ‘very high’. Our DV is reaction time and is coded as ‘RT’. Subject number is coded as ‘Subject’. We want to know if there is a difference between our conditions (and if so, where that difference lies). Calculate descriptive statistics and conduct the appropriate ANOVA."
   ]
  },
  {
   "cell_type": "code",
   "execution_count": 11,
   "id": "ae8ec39d",
   "metadata": {},
   "outputs": [],
   "source": [
    "# Read data\n",
    "\n",
    "data_3 = pd.read_csv('https://raw.githubusercontent.com/ajstewartlang/11_glm_anova_pt1/master/data/ANOVA_data2.csv')"
   ]
  },
  {
   "cell_type": "code",
   "execution_count": 12,
   "id": "9ebd4c1c",
   "metadata": {},
   "outputs": [
    {
     "data": {
      "text/plain": [
       "Condition\n",
       "high          927.083333\n",
       "low          1164.666667\n",
       "very high     612.666667\n",
       "very low     1478.166667\n",
       "Name: RT, dtype: float64"
      ]
     },
     "execution_count": 12,
     "metadata": {},
     "output_type": "execute_result"
    }
   ],
   "source": [
    "# Mean and Standard Deviation\n",
    "\n",
    "group_data_3 = data_3.groupby(['Condition'])['RT']\n",
    "\n",
    "group_data_3_mean = group_data_3.mean()\n",
    "\n",
    "group_data_3_error = group_data_3.std()\n",
    "\n",
    "group_data_3_mean"
   ]
  },
  {
   "cell_type": "code",
   "execution_count": 13,
   "id": "5ee204b7",
   "metadata": {},
   "outputs": [],
   "source": [
    "# Convert series into list for bar plot\n",
    "\n",
    "error_3 = [group_data_3_error[0], group_data_3_error[1], group_data_3_error[2], group_data_3_error[3]]"
   ]
  },
  {
   "cell_type": "code",
   "execution_count": 14,
   "id": "5bca2652",
   "metadata": {},
   "outputs": [
    {
     "data": {
      "image/png": "[encoded data removed]",
      "text/plain": [
       "<Figure size 640x480 with 1 Axes>"
      ]
     },
     "metadata": {},
     "output_type": "display_data"
    }
   ],
   "source": [
    "# Bar plot\n",
    "\n",
    "group_data_3_mean.plot(kind = 'bar',\n",
    "                      yerr = error_3,\n",
    "                       capsize = 10,\n",
    "                       alpha = .8\n",
    "                      )\n",
    "plt.xticks([0, 1, 2, 3], ['High', 'Low', 'Very High', 'Very Low'], rotation = 45)\n",
    "plt.xlabel('Frequency')\n",
    "plt.ylabel('Reaction time (ms)')\n",
    "plt.title('Frequency on Reaction Time')\n",
    "plt.show()"
   ]
  },
  {
   "cell_type": "code",
   "execution_count": 15,
   "id": "45bdea6e",
   "metadata": {},
   "outputs": [],
   "source": [
    "# Make masks\n",
    "\n",
    "very_low = data_3[data_3['Condition'] == 'very low']['RT']\n",
    "\n",
    "low = data_3[data_3['Condition'] == 'low']['RT']\n",
    "\n",
    "high = data_3[data_3['Condition'] == 'high']['RT']\n",
    "\n",
    "very_high = data_3[data_3['Condition'] == 'very high']['RT']"
   ]
  },
  {
   "cell_type": "code",
   "execution_count": 16,
   "id": "ed2bb10f",
   "metadata": {},
   "outputs": [
    {
     "data": {
      "text/plain": [
       "F_onewayResult(statistic=203.20843323788185, pvalue=8.614496435552629e-26)"
      ]
     },
     "execution_count": 16,
     "metadata": {},
     "output_type": "execute_result"
    }
   ],
   "source": [
    "# One-way ANOVA\n",
    "\n",
    "stats.f_oneway(very_low, low, high, very_high)"
   ]
  },
  {
   "cell_type": "code",
   "execution_count": 17,
   "id": "32599f0e",
   "metadata": {},
   "outputs": [],
   "source": [
    "# Index for Post-Hoc\n",
    "\n",
    "index_vl = (data_3['Condition'] == 'very low')\n",
    "index_l = (data_3['Condition'] == 'low')\n",
    "index_h = (data_3['Condition'] == 'high')\n",
    "index_vh = (data_3['Condition'] == 'very high')"
   ]
  },
  {
   "cell_type": "code",
   "execution_count": 18,
   "id": "e81840f1",
   "metadata": {},
   "outputs": [],
   "source": [
    "# Variables through appointed index\n",
    "\n",
    "vl = data_3[index_vl]['RT']\n",
    "l = data_3[index_l]['RT']\n",
    "h = data_3[index_h]['RT']\n",
    "vh = data_3[index_vh]['RT']"
   ]
  },
  {
   "cell_type": "code",
   "execution_count": 19,
   "id": "41e4f6c9",
   "metadata": {},
   "outputs": [
    {
     "name": "stdout",
     "output_type": "stream",
     "text": [
      "Very high vs Very low *\n",
      "Ttest_indResult(statistic=-21.22706126922631, pvalue=3.824775020794922e-16)\n",
      "\n",
      "Very high vs Low *\n",
      "Ttest_indResult(statistic=-14.179033699480147, pvalue=1.5160619459027267e-12)\n",
      "\n",
      "Very high vs High *\n",
      "Ttest_indResult(statistic=-7.9471422710203425, pvalue=6.588839271013657e-08)\n",
      "\n",
      "High vs Very low *\n",
      "Ttest_indResult(statistic=-16.41463060047988, pvalue=7.906416052595626e-14)\n",
      "\n",
      "High vs Low *\n",
      "Ttest_indResult(statistic=-7.588336249607577, pvalue=1.402861216728329e-07)\n",
      "\n",
      "Low vs Very low *\n",
      "Ttest_indResult(statistic=-9.55075176522744, pvalue=2.7673993199893625e-09)\n",
      "\n"
     ]
    }
   ],
   "source": [
    "# Post Hoc T-tests \n",
    "\n",
    "print('Very high vs Very low *')\n",
    "print(stats.ttest_ind(vh, vl))\n",
    "print()\n",
    "\n",
    "print('Very high vs Low *')\n",
    "print(stats.ttest_ind(vh, l))\n",
    "print()\n",
    "\n",
    "print('Very high vs High *')\n",
    "print(stats.ttest_ind(vh, h))\n",
    "print()\n",
    "\n",
    "print('High vs Very low *')\n",
    "print(stats.ttest_ind(h, vl))\n",
    "print()\n",
    "\n",
    "print('High vs Low *')\n",
    "print(stats.ttest_ind(h, l))\n",
    "print()\n",
    "\n",
    "print('Low vs Very low *')\n",
    "print(stats.ttest_ind(l, vl))\n",
    "print()\n"
   ]
  },
  {
   "cell_type": "code",
   "execution_count": null,
   "id": "f82f27e7",
   "metadata": {},
   "outputs": [],
   "source": []
  }
 ],
 "metadata": {
  "kernelspec": {
   "display_name": "Python (data_science)",
   "language": "python",
   "name": "data_science"
  },
  "language_info": {
   "codemirror_mode": {
    "name": "ipython",
    "version": 3
   },
   "file_extension": ".py",
   "mimetype": "text/x-python",
   "name": "python",
   "nbconvert_exporter": "python",
   "pygments_lexer": "ipython3",
   "version": "3.10.9"
  }
 },
 "nbformat": 4,
 "nbformat_minor": 5
}
